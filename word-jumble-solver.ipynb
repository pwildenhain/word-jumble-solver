{
 "cells": [
  {
   "cell_type": "code",
   "execution_count": 1,
   "metadata": {
    "collapsed": true
   },
   "outputs": [],
   "source": [
    "from requests import get\n",
    "from itertools import permutations\n",
    "from functools import reduce\n",
    "from json import loads"
   ]
  },
  {
   "cell_type": "code",
   "execution_count": 2,
   "metadata": {
    "collapsed": true
   },
   "outputs": [],
   "source": [
    "# Shorter list ~ 70k words\n",
    "#word_req = get('http://www-personal.umich.edu/~jlawler/wordlist')\n",
    "# Longer list ~ 450k words\n",
    "#word_req = get('https://raw.githubusercontent.com/dwyl/english-words/master/words_alpha.txt')\n",
    "# Scrabble dictionary\n",
    "word_req = get('https://raw.githubusercontent.com/benjamincrom/scrabble/master/scrabble/dictionary.json')"
   ]
  },
  {
   "cell_type": "code",
   "execution_count": 3,
   "metadata": {},
   "outputs": [],
   "source": [
    "# Load from JSON file\n",
    "english_words = loads(word_req.text)\n",
    "# Load from new line delimited file\n",
    "#english_words = list(word_req.text.split())"
   ]
  },
  {
   "cell_type": "code",
   "execution_count": 4,
   "metadata": {},
   "outputs": [],
   "source": [
    "# Build the dictionary object for the word jumble\n",
    "word_jumble_dict = dict()\n",
    "for word_len in range(3, 7):\n",
    "    word_jumble_dict[word_len] = [word for word in english_words if len(word) == word_len]"
   ]
  },
  {
   "cell_type": "code",
   "execution_count": 5,
   "metadata": {},
   "outputs": [],
   "source": [
    "# Build list of tuples with all possible options\n",
    "word_jumble = 'besbri'\n",
    "all_combos = list(permutations(word_jumble))\n",
    "solutions = {3:[], 4:[], 5:[], 6:[]}\n",
    "num_desired_solutions = {3:5, 4:3, 5:2, 6:1}\n",
    "permutation_counter = 0\n",
    "for combo in all_combos:\n",
    "    permutation_counter += 1\n",
    "    word_option = reduce(lambda x, y: x + y, combo)\n",
    "    available_slots = [key for key in solutions.keys() if len(solutions[key]) < num_desired_solutions[key]]\n",
    "    if available_slots == []:\n",
    "        break\n",
    "    for i in available_slots:\n",
    "        if word_option[:i] in english_words and word_option[:i] not in solutions[i]:\n",
    "            solutions[i].append(word_option[:i])"
   ]
  },
  {
   "cell_type": "code",
   "execution_count": 6,
   "metadata": {},
   "outputs": [
    {
     "name": "stdout",
     "output_type": "stream",
     "text": [
      "3: bis, bib, ebb, ers, ser\n",
      "4: brie, bris, bier\n",
      "5: bries, bribe\n",
      "6: bribes\n"
     ]
    }
   ],
   "source": [
    "for key, value in solutions.items():\n",
    "    print(f\"{key}: {', '.join(value)}\")"
   ]
  },
  {
   "cell_type": "code",
   "execution_count": 7,
   "metadata": {},
   "outputs": [
    {
     "name": "stdout",
     "output_type": "stream",
     "text": [
      "Examined 38.6% of permutations for 'besbri'\n"
     ]
    }
   ],
   "source": [
    "pct_through_permutations = round((permutation_counter / len(all_combos)) * 100, 1)\n",
    "print(f\"Examined {pct_through_permutations}% of permutations for '{word_jumble}'\")"
   ]
  }
 ],
 "metadata": {
  "kernelspec": {
   "display_name": "Python 3",
   "language": "python",
   "name": "python3"
  },
  "language_info": {
   "codemirror_mode": {
    "name": "ipython",
    "version": 3
   },
   "file_extension": ".py",
   "mimetype": "text/x-python",
   "name": "python",
   "nbconvert_exporter": "python",
   "pygments_lexer": "ipython3",
   "version": "3.6.1"
  }
 },
 "nbformat": 4,
 "nbformat_minor": 2
}
